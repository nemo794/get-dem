{
 "cells": [
  {
   "cell_type": "markdown",
   "id": "4f404751-64f5-4f31-82e8-d318c3cd2c11",
   "metadata": {},
   "source": [
    "# MAAP Benchmark with \"get-dem\" "
   ]
  },
  {
   "cell_type": "markdown",
   "id": "dc99ccc6-162e-4b04-8442-fff7b20c0fe1",
   "metadata": {},
   "source": [
    "## Setting up environment"
   ]
  },
  {
   "cell_type": "code",
   "execution_count": null,
   "id": "f91f01f9-a142-4edb-b32d-962dcb2401b7",
   "metadata": {},
   "outputs": [],
   "source": [
    "import os\n",
    "from time import time\n",
    "import subprocess\n",
    "import numpy as np\n",
    "\n",
    "# Uncomment to install sardem\n",
    "#!pip install sardem\n",
    "os.environ['PROJ_LIB']='/opt/conda/share/proj'"
   ]
  },
  {
   "cell_type": "markdown",
   "id": "5349bb5b-9b49-456c-9599-489db33b6d20",
   "metadata": {},
   "source": [
    "## Setup test"
   ]
  },
  {
   "cell_type": "code",
   "execution_count": null,
   "id": "720549d9-b982-4be3-92fa-578550a1c8fb",
   "metadata": {},
   "outputs": [],
   "source": [
    "bboxes = ['-156 18.8 -154.7 20.3', # little area\n",
    "    '-118.06817 34.22169 -118.05801 34.22822',  # Mt Wilson (near JPL) (small, ~8 sec)\n",
    "          '-124.81360 32.44506 -113.75989 42.24498', # CA and NV (uses ~5-6 GB RAM, takes a few minutes to run)\n",
    "\n",
    "           # Very large bbox options -- might run out of memory\n",
    "        '-125.53514 25.42150  -87.06960 49.22105', # Western US (CA, WA, Chicago, New Orleans)\n",
    "        '-125.41615 31.03621 -101.80916 49.17324', # Western US (CA -> CO)\n",
    "        '6.26868 36.00380   18.57179 47.28139'  # Italy (Requires more than 8 GB RAM)\n",
    "         ]\n",
    "\n",
    "\n",
    "\n",
    "bbox_index = 1\n",
    "mc_count = 20"
   ]
  },
  {
   "cell_type": "markdown",
   "id": "7567113e-35a1-481a-8344-9f5e74f5e5a4",
   "metadata": {},
   "source": [
    "## ADE Benchmark"
   ]
  },
  {
   "cell_type": "markdown",
   "id": "71a06210-0b2c-44fd-848d-9014c2eb7f95",
   "metadata": {},
   "source": [
    "Launching the \"get-dem\" multiple time. \n",
    "* Make sure that there are no errors in the \"compute\" part when running the command line *"
   ]
  },
  {
   "cell_type": "code",
   "execution_count": null,
   "id": "0e67fa7b-a923-425c-9109-9d64bf1cd2ec",
   "metadata": {},
   "outputs": [],
   "source": [
    "exec_time_list = []\n",
    "start = time()\n",
    "\n",
    "i=0\n",
    "while i<mc_count:\n",
    "    start = time()\n",
    "    !sh /projects/get-dem/driver/run.sh -b {bboxes[bbox_index]} --compute TRUE 2>&1 > /dev/null\n",
    "    exec_time_list.append(time()-start)\n",
    "    !rm /projects/data/output/dem.tif\n",
    "    i = i+1\n"
   ]
  },
  {
   "cell_type": "code",
   "execution_count": null,
   "id": "b82b616b-5353-4b1c-81dd-be618ce24ebb",
   "metadata": {},
   "outputs": [],
   "source": [
    "print(\"Mean execution time :\"+ str(np.mean(exec_time_list)))\n",
    "print(\"Mean execution time :\"+ str(np.std(exec_time_list)))"
   ]
  },
  {
   "cell_type": "markdown",
   "id": "45cf2a98-36f9-419e-ad1e-c39ba446bb30",
   "metadata": {},
   "source": [
    "## WPST Benchmark"
   ]
  },
  {
   "cell_type": "code",
   "execution_count": null,
   "id": "ad2ea2f7-3dc1-487d-865d-2f6c29ec4260",
   "metadata": {},
   "outputs": [],
   "source": [
    "from maap_utils.maap_process import MaapWPST\n",
    "from maap_utils.maap_authenticator import MaapAuthenticator"
   ]
  },
  {
   "cell_type": "code",
   "execution_count": null,
   "id": "a30247fc-ce8f-49ed-97d0-886ba4cb1bac",
   "metadata": {},
   "outputs": [],
   "source": [
    "maap_auth = MaapAuthenticator('/projects/.maap/auth.ini', '/projects/.maap/maap.ini')\n",
    "oauth_token = maap_auth.get_esa_token_with_esa_cred()\n",
    "\n",
    "maap_wpst = MaapWPST('/projects/.maap/maap.ini', oauth_token)"
   ]
  },
  {
   "cell_type": "code",
   "execution_count": null,
   "id": "2c954202-2900-42dc-b1e4-66f6b922d0c2",
   "metadata": {},
   "outputs": [],
   "source": [
    "i=0\n",
    "while i< mc_count:\n",
    "    i = i+1\n",
    "    maap_job = maap_wpst.launch_process(\n",
    "        'wf-get-dem',\n",
    "        [{\"id\":\"s_bbox\",\"data\":bboxes[bbox_index],\"href\":\"\"},\n",
    "         {\"id\":\"s_compute\",\"data\":\"TRUE\",\"href\":\"\"},\n",
    "         {'id': 'copy_dir_or_file', 'data': 'dir', 'href': ''},\n",
    "         {'id': 's3_destination', 'data': '', 'href': 'maap-scientific-data/shared/adu/todelete/benchmark/getdem'},\n",
    "         {'id': 'source_folder', 'data': '/projects/data/output', 'href': ''}]\n",
    "    )\n",
    "    #maap_wpst.wait_for_final_status(maap_job)\n",
    "    #maap_wpst.delete_job(maap_job)\n",
    "    "
   ]
  },
  {
   "cell_type": "code",
   "execution_count": null,
   "id": "897a3758-fe3a-47c0-8809-32fcfb37c7e8",
   "metadata": {},
   "outputs": [],
   "source": []
  }
 ],
 "metadata": {
  "kernelspec": {
   "display_name": "Python 3 (ipykernel)",
   "language": "python",
   "name": "python3"
  },
  "language_info": {
   "codemirror_mode": {
    "name": "ipython",
    "version": 3
   },
   "file_extension": ".py",
   "mimetype": "text/x-python",
   "name": "python",
   "nbconvert_exporter": "python",
   "pygments_lexer": "ipython3",
   "version": "3.9.10"
  }
 },
 "nbformat": 4,
 "nbformat_minor": 5
}
